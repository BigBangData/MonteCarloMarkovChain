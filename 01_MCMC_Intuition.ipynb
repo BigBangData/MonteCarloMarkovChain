{
 "cells": [
  {
   "cell_type": "markdown",
   "metadata": {},
   "source": [
    "# Monte Carlo Markov Chain\n",
    "\n",
    "Code adapted from [MCMC Intuition for Everyone](https://towardsdatascience.com/mcmc-intuition-for-everyone-5ae79fff22b1) by Rahul Agarwal."
   ]
  },
  {
   "cell_type": "code",
   "execution_count": 1,
   "metadata": {},
   "outputs": [],
   "source": [
    "import numpy as np\n",
    "\n",
    "Q = np.matrix([[0.9  , 0.075, 0.025],\n",
    "               [0.15 , 0.80 , 0.05 ],\n",
    "               [0.25 , 0.25 , 0.5  ]])"
   ]
  },
  {
   "cell_type": "code",
   "execution_count": 2,
   "metadata": {},
   "outputs": [
    {
     "data": {
      "text/plain": [
       "matrix([[0.9  , 0.075, 0.025]])"
      ]
     },
     "execution_count": 2,
     "metadata": {},
     "output_type": "execute_result"
    }
   ],
   "source": [
    "# state 1\n",
    "init_s = np.matrix([[1, 0, 0]])\n",
    "np.dot(init_s, Q)"
   ]
  },
  {
   "cell_type": "code",
   "execution_count": 3,
   "metadata": {},
   "outputs": [],
   "source": [
    "def find_stationary(init_s, Q, tol=10e-9):\n",
    "    \"\"\"\n",
    "    Find a stationary state in a Markov Chain.\n",
    "    \n",
    "    Args\n",
    "    ----\n",
    "        init_s : initial state\n",
    "        Q : matrix of transition probabilities\n",
    "        tol : a tolerance limit\n",
    "    \"\"\"\n",
    "    \n",
    "    epsilon = 1\n",
    "    while epsilon > tol:\n",
    "        next_s = np.dot(init_s, Q)\n",
    "        epsilon = np.sqrt(np.sum(np.square(next_s - init_s)))\n",
    "        init_s = next_s\n",
    "    \n",
    "    # test equality\n",
    "    try:\n",
    "        assert init_s.all() == next_s.all()\n",
    "    except AssertionError:\n",
    "        print('stationary state not found.')\n",
    "        \n",
    "    return next_s"
   ]
  },
  {
   "cell_type": "code",
   "execution_count": 4,
   "metadata": {},
   "outputs": [
    {
     "data": {
      "text/plain": [
       "matrix([[0.62500002, 0.31249998, 0.0625    ]])"
      ]
     },
     "execution_count": 4,
     "metadata": {},
     "output_type": "execute_result"
    }
   ],
   "source": [
    "stat_s1 = find_stationary(init_s, Q)\n",
    "stat_s1"
   ]
  },
  {
   "cell_type": "code",
   "execution_count": 5,
   "metadata": {},
   "outputs": [
    {
     "data": {
      "text/plain": [
       "matrix([[0.62499998, 0.31250002, 0.0625    ]])"
      ]
     },
     "execution_count": 5,
     "metadata": {},
     "output_type": "execute_result"
    }
   ],
   "source": [
    "# state 2\n",
    "init_s = np.matrix([[0, 1, 0]])\n",
    "stat_s2 = find_stationary(init_s, Q)\n",
    "stat_s2"
   ]
  },
  {
   "cell_type": "code",
   "execution_count": 6,
   "metadata": {},
   "outputs": [
    {
     "data": {
      "text/plain": [
       "matrix([[0.62499998, 0.31250002, 0.0625    ]])"
      ]
     },
     "execution_count": 6,
     "metadata": {},
     "output_type": "execute_result"
    }
   ],
   "source": [
    "# state 3\n",
    "init_s = np.matrix([[0, 0, 1]])\n",
    "stat_s3 = find_stationary(init_s, Q)\n",
    "stat_s3"
   ]
  },
  {
   "cell_type": "markdown",
   "metadata": {},
   "source": [
    "> \"The stationary state distribution is important because it lets you define the probability for every state of a system at a random time.\""
   ]
  },
  {
   "cell_type": "code",
   "execution_count": null,
   "metadata": {},
   "outputs": [],
   "source": []
  }
 ],
 "metadata": {
  "kernelspec": {
   "display_name": "Python 3",
   "language": "python",
   "name": "python3"
  },
  "language_info": {
   "codemirror_mode": {
    "name": "ipython",
    "version": 3
   },
   "file_extension": ".py",
   "mimetype": "text/x-python",
   "name": "python",
   "nbconvert_exporter": "python",
   "pygments_lexer": "ipython3",
   "version": "3.9.1"
  }
 },
 "nbformat": 4,
 "nbformat_minor": 4
}
