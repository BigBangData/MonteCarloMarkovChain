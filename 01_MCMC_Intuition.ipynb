{
 "cells": [
  {
   "cell_type": "markdown",
   "metadata": {},
   "source": [
    "# Monte Carlo Markov Chain\n",
    "\n",
    "Code adapted from [MCMC Intuition for Everyone](https://towardsdatascience.com/mcmc-intuition-for-everyone-5ae79fff22b1) by Rahul Agarwal."
   ]
  },
  {
   "cell_type": "code",
   "execution_count": 2,
   "metadata": {},
   "outputs": [],
   "source": [
    "import random\n",
    "import numpy as np\n",
    "import pylab as pl\n",
    "import scipy.special as ss\n",
    "%matplotlib inline\n",
    "\n",
    "Q = np.matrix([[0.9  , 0.075, 0.025],\n",
    "               [0.15 , 0.80 , 0.05 ],\n",
    "               [0.25 , 0.25 , 0.5  ]])"
   ]
  },
  {
   "cell_type": "code",
   "execution_count": 3,
   "metadata": {},
   "outputs": [
    {
     "data": {
      "text/plain": [
       "matrix([[0.9  , 0.075, 0.025]])"
      ]
     },
     "execution_count": 3,
     "metadata": {},
     "output_type": "execute_result"
    }
   ],
   "source": [
    "# state 1\n",
    "init_s = np.matrix([[1, 0, 0]])\n",
    "np.dot(init_s, Q)"
   ]
  },
  {
   "cell_type": "code",
   "execution_count": 4,
   "metadata": {},
   "outputs": [],
   "source": [
    "def find_stationary(init_s, Q, tol=10e-9):\n",
    "    \"\"\"\n",
    "    Find a stationary state in a Markov Chain.\n",
    "    \n",
    "    Args\n",
    "    ----\n",
    "        init_s : initial state\n",
    "        Q : matrix of transition probabilities\n",
    "        tol : a tolerance limit\n",
    "    \"\"\"\n",
    "    \n",
    "    epsilon = 1\n",
    "    while epsilon > tol:\n",
    "        next_s = np.dot(init_s, Q)\n",
    "        epsilon = np.sqrt(np.sum(np.square(next_s - init_s)))\n",
    "        init_s = next_s\n",
    "    \n",
    "    # test equality\n",
    "    try:\n",
    "        assert init_s.all() == next_s.all()\n",
    "    except AssertionError:\n",
    "        print('stationary state not found.')\n",
    "        \n",
    "    return next_s"
   ]
  },
  {
   "cell_type": "code",
   "execution_count": 5,
   "metadata": {},
   "outputs": [
    {
     "data": {
      "text/plain": [
       "matrix([[0.62500002, 0.31249998, 0.0625    ]])"
      ]
     },
     "execution_count": 5,
     "metadata": {},
     "output_type": "execute_result"
    }
   ],
   "source": [
    "stat_s1 = find_stationary(init_s, Q)\n",
    "stat_s1"
   ]
  },
  {
   "cell_type": "code",
   "execution_count": 6,
   "metadata": {},
   "outputs": [
    {
     "data": {
      "text/plain": [
       "matrix([[0.62499998, 0.31250002, 0.0625    ]])"
      ]
     },
     "execution_count": 6,
     "metadata": {},
     "output_type": "execute_result"
    }
   ],
   "source": [
    "# state 2\n",
    "init_s = np.matrix([[0, 1, 0]])\n",
    "stat_s2 = find_stationary(init_s, Q)\n",
    "stat_s2"
   ]
  },
  {
   "cell_type": "code",
   "execution_count": 7,
   "metadata": {},
   "outputs": [
    {
     "data": {
      "text/plain": [
       "matrix([[0.62499998, 0.31250002, 0.0625    ]])"
      ]
     },
     "execution_count": 7,
     "metadata": {},
     "output_type": "execute_result"
    }
   ],
   "source": [
    "# state 3\n",
    "init_s = np.matrix([[0, 0, 1]])\n",
    "stat_s3 = find_stationary(init_s, Q)\n",
    "stat_s3"
   ]
  },
  {
   "cell_type": "markdown",
   "metadata": {},
   "source": [
    "> \"The stationary state distribution is important because it lets you define the probability for every state of a system at a random time.\""
   ]
  },
  {
   "cell_type": "code",
   "execution_count": null,
   "metadata": {},
   "outputs": [],
   "source": []
  },
  {
   "cell_type": "code",
   "execution_count": null,
   "metadata": {},
   "outputs": [],
   "source": []
  },
  {
   "cell_type": "code",
   "execution_count": null,
   "metadata": {},
   "outputs": [],
   "source": []
  },
  {
   "cell_type": "code",
   "execution_count": null,
   "metadata": {},
   "outputs": [],
   "source": []
  },
  {
   "cell_type": "code",
   "execution_count": 8,
   "metadata": {},
   "outputs": [],
   "source": [
    "# Lets define our Beta Function to generate s for any particular state. We don't care for the normalizing constant here.\n",
    "def beta_s(w,a,b):\n",
    "    return w**(a-1)*(1-w)**(b-1)\n",
    "\n",
    "# This Function returns True if the coin with probability P of heads comes heads when flipped.\n",
    "def random_coin(p):\n",
    "    unif = random.uniform(0,1)\n",
    "    if unif>=p:\n",
    "        return False\n",
    "    else:\n",
    "        return True\n",
    "\n",
    "# This Function runs the MCMC chain for Beta Distribution.\n",
    "def beta_mcmc(N_hops,a,b):\n",
    "    states = []\n",
    "    cur = random.uniform(0,1)\n",
    "    for i in range(0,N_hops):\n",
    "        states.append(cur)\n",
    "        next = random.uniform(0,1)\n",
    "        ap = min(beta_s(next,a,b)/beta_s(cur,a,b),1) # Calculate the acceptance probability\n",
    "        if random_coin(ap):\n",
    "            cur = next\n",
    "    return states[-1000:] # Returns the last 100 states of the chain"
   ]
  },
  {
   "cell_type": "code",
   "execution_count": 13,
   "metadata": {},
   "outputs": [],
   "source": [
    "# Actual Beta PDF == has division by zero errors\n",
    "def beta(a, b, i):\n",
    "    e1 = ss.gamma(a + b)\n",
    "    e2 = ss.gamma(a)\n",
    "    e3 = ss.gamma(b)\n",
    "    e4 = i ** (a - 1)\n",
    "    e5 = (1 - i) ** (b - 1)\n",
    "    return (e1/(e2*e3)) * e4 * e5"
   ]
  },
  {
   "cell_type": "code",
   "execution_count": 17,
   "metadata": {},
   "outputs": [],
   "source": [
    "result = beta(0.1, 0.1, 100)"
   ]
  },
  {
   "cell_type": "code",
   "execution_count": 19,
   "metadata": {},
   "outputs": [
    {
     "data": {
      "text/plain": [
       "numpy.complex128"
      ]
     },
     "execution_count": 19,
     "metadata": {},
     "output_type": "execute_result"
    }
   ],
   "source": [
    "type(result)"
   ]
  },
  {
   "cell_type": "code",
   "execution_count": 20,
   "metadata": {},
   "outputs": [
    {
     "data": {
      "text/plain": [
       "(-1.2227729158498092e-05-3.973030043797453e-06j)"
      ]
     },
     "execution_count": 20,
     "metadata": {},
     "output_type": "execute_result"
    }
   ],
   "source": [
    "result"
   ]
  },
  {
   "cell_type": "code",
   "execution_count": 14,
   "metadata": {},
   "outputs": [],
   "source": [
    "#pl.rcParams['figure.figsize'] = (17.0, 4.0)\n",
    "#plot_beta(0.1, 0.1)\n",
    "#plot_beta(1, 1)\n",
    "#plot_beta(2, 3)"
   ]
  },
  {
   "cell_type": "code",
   "execution_count": null,
   "metadata": {},
   "outputs": [],
   "source": []
  },
  {
   "cell_type": "code",
   "execution_count": 55,
   "metadata": {},
   "outputs": [],
   "source": [
    "def generate_beta_state(weight, alpha, beta):\n",
    "    \"\"\"\n",
    "    Generate 's' for a particular state, given a\n",
    "    alpha and beta parameters and a weight.\n",
    "    \n",
    "    NB - we don't care about the normalizing constanct 'C'\n",
    "    \"\"\"\n",
    "    term1 = weight**(alpha - 1)\n",
    "    term2 = (1 - weight)**(beta - 1)\n",
    "    return term1 * term2\n",
    "\n",
    "def flip_coin(prob_tresh):\n",
    "    \"\"\"\n",
    "    Flip a random coin from a uniform distribution,\n",
    "    given a probability threshold for \"heads\".\n",
    "    \"\"\"\n",
    "    unif = random.uniform(0, 1)\n",
    "    if unif >= prob_tresh:\n",
    "        return False\n",
    "    else:\n",
    "        return True\n",
    "\n",
    "def run_beta_chain(n_hops, alpha, beta, n_states=1000):\n",
    "    \"\"\"\n",
    "    Run an MCMC chain for the beta distribution, \n",
    "    given a number of hops, alpha and beta, and the \n",
    "    desired last number of states.\n",
    "    \"\"\"\n",
    "    states = []\n",
    "    current_state = random.uniform(0, 1)\n",
    "    for i in range(0, n_hops):\n",
    "        states.append(current_state)\n",
    "        next_state = random.uniform(0, 1)\n",
    "        numer = generate_beta_state(next_state, alpha, beta)\n",
    "        denom = generate_beta_state(current_state, alpha, beta)\n",
    "        acceptance_prob = min(numer/denom, 1)\n",
    "        if flip_coin(acceptance_prob):\n",
    "            current = next_state\n",
    "    return states[-n_states:]"
   ]
  },
  {
   "cell_type": "code",
   "execution_count": 56,
   "metadata": {},
   "outputs": [
    {
     "data": {
      "text/plain": [
       "False"
      ]
     },
     "execution_count": 56,
     "metadata": {},
     "output_type": "execute_result"
    }
   ],
   "source": [
    "flip_coin(.5)"
   ]
  },
  {
   "cell_type": "code",
   "execution_count": 1,
   "metadata": {},
   "outputs": [],
   "source": [
    "#run_beta_chain(100000, 0.1, 0.4, n_states=10) # Eh?"
   ]
  },
  {
   "cell_type": "code",
   "execution_count": 54,
   "metadata": {},
   "outputs": [],
   "source": [
    "#beta_mcmc(1000, 0.1, 0.1)"
   ]
  },
  {
   "cell_type": "code",
   "execution_count": null,
   "metadata": {},
   "outputs": [],
   "source": []
  },
  {
   "cell_type": "code",
   "execution_count": null,
   "metadata": {},
   "outputs": [],
   "source": []
  }
 ],
 "metadata": {
  "kernelspec": {
   "display_name": "Python 3",
   "language": "python",
   "name": "python3"
  },
  "language_info": {
   "codemirror_mode": {
    "name": "ipython",
    "version": 3
   },
   "file_extension": ".py",
   "mimetype": "text/x-python",
   "name": "python",
   "nbconvert_exporter": "python",
   "pygments_lexer": "ipython3",
   "version": "3.9.1"
  }
 },
 "nbformat": 4,
 "nbformat_minor": 4
}
